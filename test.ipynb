{
 "cells": [
  {
   "cell_type": "code",
   "execution_count": null,
   "metadata": {},
   "outputs": [],
   "source": [
    "import matplotlib.pyplot as plt\n",
    "import numpy as np"
   ]
  },
  {
   "cell_type": "code",
   "execution_count": null,
   "metadata": {},
   "outputs": [],
   "source": [
    "alphaCalc = lambda step, mul: lambda x: min(step * sum([mul**i for i in range(x)]), 1)"
   ]
  },
  {
   "cell_type": "code",
   "execution_count": null,
   "metadata": {},
   "outputs": [],
   "source": [
    "calc = alphaCalc(0.02, 1.2)\n",
    "y = [(i, calc(i)) for i in range(100) if calc(i) <1] \n",
    "x = [i[0] for i in y]\n",
    "y = [i[1] for i in y]\n",
    "\n",
    "plt.plot(x, y), max(x)\n",
    "calc = alphaCalc(5e-2, 1.)\n",
    "y = [(i, calc(i)) for i in range(100) if calc(i) <1] \n",
    "x = [i[0] for i in y]\n",
    "y = [i[1] for i in y]\n",
    "\n",
    "\n",
    "plt.plot(x, y), max(x)\n",
    "plt.show()"
   ]
  },
  {
   "cell_type": "code",
   "execution_count": null,
   "metadata": {},
   "outputs": [],
   "source": [
    "np.tanh"
   ]
  },
  {
   "cell_type": "code",
   "execution_count": null,
   "metadata": {},
   "outputs": [],
   "source": [
    "relu = lambda x: x if x > 0 else 0\n",
    "alphaCalc = lambda step, mul, start: lambda x: step * sum([(mul**(i)) * (np.sign) for i in range(x)])"
   ]
  }
 ],
 "metadata": {
  "kernelspec": {
   "display_name": "Python 3 (ipykernel)",
   "language": "python",
   "name": "python3"
  },
  "language_info": {
   "codemirror_mode": {
    "name": "ipython",
    "version": 3
   },
   "file_extension": ".py",
   "mimetype": "text/x-python",
   "name": "python",
   "nbconvert_exporter": "python",
   "pygments_lexer": "ipython3",
   "version": "3.10.12"
  }
 },
 "nbformat": 4,
 "nbformat_minor": 2
}
